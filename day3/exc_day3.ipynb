{
 "cells": [
  {
   "cell_type": "markdown",
   "metadata": {},
   "source": [
    "# Excercises for Day 3\n",
    "\n",
    "## 1. Numpy exercises"
   ]
  },
  {
   "cell_type": "code",
   "execution_count": 1,
   "metadata": {},
   "outputs": [],
   "source": [
    "import numpy as np"
   ]
  },
  {
   "cell_type": "markdown",
   "metadata": {},
   "source": [
    "#### a."
   ]
  },
  {
   "cell_type": "code",
   "execution_count": 4,
   "metadata": {},
   "outputs": [
    {
     "name": "stdout",
     "output_type": "stream",
     "text": [
      "[0. 0. 0. 0. 1. 0. 0. 0. 0. 0.]\n"
     ]
    }
   ],
   "source": [
    "vec_a = np.zeros(10)\n",
    "vec_a[4] = 1\n",
    "print(vec_a)"
   ]
  },
  {
   "cell_type": "markdown",
   "metadata": {},
   "source": [
    "#### b."
   ]
  },
  {
   "cell_type": "code",
   "execution_count": 5,
   "metadata": {},
   "outputs": [
    {
     "name": "stdout",
     "output_type": "stream",
     "text": [
      "[ 0  1  2  3  4  5  6  7  8  9 10 11 12 13 14 15 16 17 18 19 20 21 22 23\n",
      " 24 25 26 27 28 29 30 31 32 33 34 35 36 37 38 39 40 41 42 43 44 45 46 47\n",
      " 48 49]\n",
      "[False False False False False False False False False False  True  True\n",
      "  True  True  True  True  True  True  True  True  True  True  True  True\n",
      "  True  True  True  True  True  True  True  True  True  True  True  True\n",
      "  True  True  True  True  True  True  True  True  True  True  True  True\n",
      "  True  True]\n",
      "[10 11 12 13 14 15 16 17 18 19 20 21 22 23 24 25 26 27 28 29 30 31 32 33\n",
      " 34 35 36 37 38 39 40 41 42 43 44 45 46 47 48 49]\n"
     ]
    }
   ],
   "source": [
    "vec_b1 = np.arange(50)\n",
    "vec_b2 = vec_b1 > 9\n",
    "vec_b3 = vec_b1[vec_b2]\n",
    "\n",
    "print(vec_b1)\n",
    "print(vec_b2)\n",
    "print(vec_b3)"
   ]
  },
  {
   "cell_type": "markdown",
   "metadata": {},
   "source": [
    "#### c."
   ]
  },
  {
   "cell_type": "code",
   "execution_count": 7,
   "metadata": {},
   "outputs": [
    {
     "name": "stdout",
     "output_type": "stream",
     "text": [
      "[49 48 47 46 45 44 43 42 41 40 39 38 37 36 35 34 33 32 31 30 29 28 27 26\n",
      " 25 24 23 22 21 20 19 18 17 16 15 14 13 12 11 10]\n"
     ]
    }
   ],
   "source": [
    "vec_c = np.flip(vec_b3)\n",
    "print(vec_c)"
   ]
  },
  {
   "cell_type": "markdown",
   "metadata": {},
   "source": [
    "#### d."
   ]
  },
  {
   "cell_type": "code",
   "execution_count": 8,
   "metadata": {},
   "outputs": [
    {
     "name": "stdout",
     "output_type": "stream",
     "text": [
      "[[0 1 2]\n",
      " [3 4 5]\n",
      " [6 7 8]]\n"
     ]
    }
   ],
   "source": [
    "vec_d = np.arange(9).reshape(3,3)\n",
    "print(vec_d)"
   ]
  },
  {
   "cell_type": "markdown",
   "metadata": {},
   "source": [
    "#### e."
   ]
  },
  {
   "cell_type": "code",
   "execution_count": 31,
   "metadata": {},
   "outputs": [
    {
     "name": "stdout",
     "output_type": "stream",
     "text": [
      "Indices of non-zero elements: \n",
      "[0 1 2]\n"
     ]
    }
   ],
   "source": [
    "vec_e1 = np.array([1,2,0,0,4,0])\n",
    "vec_e2 = vec_e1 != 0\n",
    "\n",
    "vec_e3 = np.where(vec_e1[vec_e2])[0]\n",
    "print(\"Indices of non-zero elements: \")\n",
    "print(vec_e3)"
   ]
  },
  {
   "cell_type": "markdown",
   "metadata": {},
   "source": [
    "#### f."
   ]
  },
  {
   "cell_type": "code",
   "execution_count": 46,
   "metadata": {},
   "outputs": [
    {
     "name": "stdout",
     "output_type": "stream",
     "text": [
      "0.4731354715658801\n"
     ]
    }
   ],
   "source": [
    "vec_f = np.random.random(30)\n",
    "\n",
    "mean_f = np.mean(vec_f1)\n",
    "print(mean_f)"
   ]
  },
  {
   "cell_type": "markdown",
   "metadata": {},
   "source": [
    "#### g."
   ]
  },
  {
   "cell_type": "code",
   "execution_count": 70,
   "metadata": {},
   "outputs": [
    {
     "name": "stdout",
     "output_type": "stream",
     "text": [
      "[[1. 1. 1. 1. 1. 1. 1. 1. 1. 1.]\n",
      " [1. 0. 0. 0. 0. 0. 0. 0. 0. 1.]\n",
      " [1. 0. 0. 0. 0. 0. 0. 0. 0. 1.]\n",
      " [1. 0. 0. 0. 0. 0. 0. 0. 0. 1.]\n",
      " [1. 0. 0. 0. 0. 0. 0. 0. 0. 1.]\n",
      " [1. 0. 0. 0. 0. 0. 0. 0. 0. 1.]\n",
      " [1. 0. 0. 0. 0. 0. 0. 0. 0. 1.]\n",
      " [1. 0. 0. 0. 0. 0. 0. 0. 0. 1.]\n",
      " [1. 0. 0. 0. 0. 0. 0. 0. 0. 1.]\n",
      " [1. 1. 1. 1. 1. 1. 1. 1. 1. 1.]]\n"
     ]
    }
   ],
   "source": [
    "n=10\n",
    "mat_g = np.zeros(n**2).reshape(n,n)\n",
    "\n",
    "for i in np.arange(n):\n",
    "    mat_g[i,0] = 1\n",
    "    mat_g[i,n-1] = 1\n",
    "\n",
    "for j in np.arange(n):\n",
    "    mat_g[0,j] = 1\n",
    "    mat_g[n-1,j] = 1\n",
    "\n",
    "print(mat_g)"
   ]
  },
  {
   "cell_type": "markdown",
   "metadata": {},
   "source": [
    "#### h."
   ]
  },
  {
   "cell_type": "code",
   "execution_count": 83,
   "metadata": {},
   "outputs": [
    {
     "name": "stdout",
     "output_type": "stream",
     "text": [
      "[[1. 0. 1. 0. 1. 0. 1. 0.]\n",
      " [1. 0. 1. 0. 1. 0. 1. 0.]\n",
      " [1. 0. 1. 0. 1. 0. 1. 0.]\n",
      " [1. 0. 1. 0. 1. 0. 1. 0.]\n",
      " [1. 0. 1. 0. 1. 0. 1. 0.]\n",
      " [1. 0. 1. 0. 1. 0. 1. 0.]\n",
      " [1. 0. 1. 0. 1. 0. 1. 0.]\n",
      " [1. 0. 1. 0. 1. 0. 1. 0.]]\n"
     ]
    }
   ],
   "source": [
    "mat_h1 = np.zeros(64)\n",
    "\n",
    "x = 0\n",
    "while x in np.arange(64):\n",
    "    mat_h1[x] = 1\n",
    "    x += 2\n",
    "\n",
    "mat_h2 = np.reshape(mat_h1, (8,8))\n",
    "print(mat_h2)"
   ]
  },
  {
   "cell_type": "markdown",
   "metadata": {},
   "source": [
    "#### i."
   ]
  },
  {
   "cell_type": "code",
   "execution_count": 85,
   "metadata": {},
   "outputs": [
    {
     "name": "stdout",
     "output_type": "stream",
     "text": [
      "[[1 0 1 0 1 0 1 0]\n",
      " [1 0 1 0 1 0 1 0]\n",
      " [1 0 1 0 1 0 1 0]\n",
      " [1 0 1 0 1 0 1 0]\n",
      " [1 0 1 0 1 0 1 0]\n",
      " [1 0 1 0 1 0 1 0]\n",
      " [1 0 1 0 1 0 1 0]\n",
      " [1 0 1 0 1 0 1 0]]\n"
     ]
    }
   ],
   "source": [
    "A = np.array([1,0])\n",
    "val1 = 8\n",
    "val2 = 4\n",
    "rep = (val1,val2)\n",
    "mat_i = np.tile(A,rep)\n",
    "print(mat_i)"
   ]
  },
  {
   "cell_type": "markdown",
   "metadata": {},
   "source": [
    "#### j."
   ]
  },
  {
   "cell_type": "code",
   "execution_count": 90,
   "metadata": {},
   "outputs": [
    {
     "name": "stdout",
     "output_type": "stream",
     "text": [
      "[ 0  1  2  3 -4 -5 -6 -7  8  9 10]\n"
     ]
    }
   ],
   "source": [
    "Z = np.arange(11)\n",
    "i = np.array([4,5,6,7])\n",
    "Z[i] = -Z[i]\n",
    "print(Z)"
   ]
  },
  {
   "cell_type": "markdown",
   "metadata": {},
   "source": [
    "#### k."
   ]
  },
  {
   "cell_type": "code",
   "execution_count": 115,
   "metadata": {},
   "outputs": [
    {
     "name": "stdout",
     "output_type": "stream",
     "text": [
      "Original vector:\n",
      "[0.47260591 0.18239814 0.85139514 0.65062194 0.27609058 0.03732087\n",
      " 0.39478453 0.78009611 0.34485584 0.1809211 ]\n",
      "\n",
      "Sorted vector:\n",
      "[0.03732087 0.1809211  0.18239814 0.27609058 0.34485584 0.39478453\n",
      " 0.47260591 0.65062194 0.78009611 0.85139514]\n"
     ]
    }
   ],
   "source": [
    "Z = np.random.random(10)\n",
    "\n",
    "print(\"Original vector:\")\n",
    "print(Z)\n",
    "print(\"\")\n",
    "\n",
    "for x in np.arange(1,10):\n",
    "    for y in np.arange(x,0,-1):\n",
    "        if Z[y] < Z[y-1]:\n",
    "            a = Z[y-1]\n",
    "            Z[y-1] = Z[y]\n",
    "            Z[y] = a\n",
    "\n",
    "print(\"Sorted vector:\")\n",
    "print(Z)"
   ]
  },
  {
   "cell_type": "markdown",
   "metadata": {},
   "source": [
    "#### l."
   ]
  },
  {
   "cell_type": "code",
   "execution_count": 122,
   "metadata": {},
   "outputs": [
    {
     "name": "stdout",
     "output_type": "stream",
     "text": [
      "True\n"
     ]
    }
   ],
   "source": [
    "A = np.random.randint(0,2,5)\n",
    "B = np.random.randint(0,2,5)\n",
    "\n",
    "equal = np.array_equal(A,B)\n",
    "print(equal)\n"
   ]
  },
  {
   "cell_type": "markdown",
   "metadata": {},
   "source": [
    "#### m."
   ]
  },
  {
   "cell_type": "code",
   "execution_count": 142,
   "metadata": {},
   "outputs": [
    {
     "name": "stdout",
     "output_type": "stream",
     "text": [
      "int32\n",
      "float32\n"
     ]
    }
   ],
   "source": [
    "Z = np.arange(10, dtype=np.int32)\n",
    "print(Z.dtype)\n",
    "\n",
    "Z = np.float32(Z)\n",
    "print(Z.dtype)"
   ]
  },
  {
   "cell_type": "markdown",
   "metadata": {},
   "source": [
    "#### n."
   ]
  },
  {
   "cell_type": "code",
   "execution_count": 147,
   "metadata": {},
   "outputs": [
    {
     "name": "stdout",
     "output_type": "stream",
     "text": [
      "[[0 1 2]\n",
      " [3 4 5]\n",
      " [6 7 8]]\n",
      "[[1 2 3]\n",
      " [4 5 6]\n",
      " [7 8 9]]\n",
      "[[ 18  21  24]\n",
      " [ 54  66  78]\n",
      " [ 90 111 132]]\n",
      "[0. 0. 0.]\n",
      "[ 18.  66. 132.]\n"
     ]
    }
   ],
   "source": [
    "A = np.arange(9).reshape(3,3)\n",
    "print(A)\n",
    "\n",
    "B = A + 1\n",
    "print(B)\n",
    "\n",
    "C = np.dot(A,B)\n",
    "print(C)\n",
    "\n",
    "D = np.zeros(3)\n",
    "for i in np.arange(3):\n",
    "    for j in np.arange(3):\n",
    "        if i == j:\n",
    "            D[i] = C[i][j]\n",
    "\n",
    "print(D)"
   ]
  },
  {
   "cell_type": "markdown",
   "metadata": {},
   "source": [
    "## 2. Speed optimization using Numpy\n",
    "\n",
    "See solution for exercises of Day 2."
   ]
  },
  {
   "cell_type": "markdown",
   "metadata": {},
   "source": [
    "## 3. Examples on classes and inheritance in Python"
   ]
  },
  {
   "cell_type": "code",
   "execution_count": 201,
   "metadata": {},
   "outputs": [
    {
     "name": "stdout",
     "output_type": "stream",
     "text": [
      "Student: First Last, Subject\n",
      "Teacher: First Last, Course\n"
     ]
    }
   ],
   "source": [
    "class Person(object):\n",
    "    def __init__(self, first, last):\n",
    "        self.first = first\n",
    "        self.last = last\n",
    "\n",
    "class Student(Person):\n",
    "    def __init__(self, first, last, subject):\n",
    "        Person.__init__(self, first, last)\n",
    "        self.subject = subject\n",
    "        \n",
    "class Teacher(Person):\n",
    "    def __init__(self, first, last, course):\n",
    "        Person.__init__(self, first, last)\n",
    "        self.course = course\n",
    "\n",
    "def printNameSubject(first,last,subject):\n",
    "    newpers = Student(first,last,subject)\n",
    "    print(\"Student: %s %s, %s\" % (first, last, subject))\n",
    "    \n",
    "def printNameCourse(first,last,course):\n",
    "    newpers = Teacher(first,last,course)\n",
    "    print(\"Teacher: %s %s, %s\" % (first, last, course))\n",
    "\n",
    "\n",
    "printNameSubject(\"First\", \"Last\", \"Subject\")\n",
    "printNameCourse(\"First\", \"Last\", \"Course\")"
   ]
  },
  {
   "cell_type": "code",
   "execution_count": null,
   "metadata": {},
   "outputs": [],
   "source": []
  }
 ],
 "metadata": {
  "kernelspec": {
   "display_name": "Python 2",
   "language": "python",
   "name": "python2"
  },
  "language_info": {
   "codemirror_mode": {
    "name": "ipython",
    "version": 3
   },
   "file_extension": ".py",
   "mimetype": "text/x-python",
   "name": "python",
   "nbconvert_exporter": "python",
   "pygments_lexer": "ipython3",
   "version": "3.6.9"
  }
 },
 "nbformat": 4,
 "nbformat_minor": 4
}
